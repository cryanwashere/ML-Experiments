{
 "cells": [
  {
   "cell_type": "code",
   "execution_count": 1,
   "id": "bd5a71c6",
   "metadata": {},
   "outputs": [],
   "source": [
    "import jax.numpy as jnp\n",
    "import plotly.express as px\n",
    "from plotly.subplots import make_subplots\n",
    "import jax\n",
    "import numpy as np\n",
    "from datasets import mnist\n",
    "import plotly.graph_objects as go"
   ]
  },
  {
   "cell_type": "code",
   "execution_count": 2,
   "id": "507bfbbc",
   "metadata": {},
   "outputs": [],
   "source": [
    "train_images, train_labels, test_images, test_labels = mnist()\n",
    "\n",
    "train_images = train_images.astype(jnp.float32)\n",
    "test_images = test_images.astype(jnp.float32)\n",
    "\n",
    "train_labels = jnp.asarray(train_labels, dtype=jnp.int32)\n",
    "test_labels = jnp.asarray(test_labels, dtype=jnp.int32)"
   ]
  },
  {
   "cell_type": "code",
   "execution_count": 3,
   "id": "4f558716",
   "metadata": {},
   "outputs": [],
   "source": [
    "def visualize_images(images_tensor):\n",
    "    \n",
    "    img = images_tensor.reshape(-1, 28, 28)\n",
    "    \n",
    "    fig = px.imshow(img[:, :, :], binary_string=False, facet_col=0, facet_col_wrap=5)\n",
    "    \n",
    "    item_map={f'{i}':\"\" for i, key in enumerate(range(img.shape[0]))}\n",
    "    fig.for_each_annotation(lambda a: a.update(text=item_map[a.text.split(\"=\")[1]])) \n",
    "    \n",
    "    fig.show()"
   ]
  },
  {
   "cell_type": "code",
   "execution_count": 5,
   "id": "e3472608",
   "metadata": {},
   "outputs": [],
   "source": [
    "net_parameters = {\n",
    "    'w0' : np.random.randn(784, 15) * 0.1,\n",
    "    'w1' : np.random.randn(15, 10) * 0.1,\n",
    "}"
   ]
  },
  {
   "cell_type": "code",
   "execution_count": 6,
   "id": "46511f38",
   "metadata": {},
   "outputs": [],
   "source": [
    "def ReLU(x):\n",
    "    return jnp.maximum(0,x)\n",
    "\n",
    "def forward(parameters, x):\n",
    "    x = x @ parameters['w0']\n",
    "    x = ReLU(x)\n",
    "    x = x @ parameters['w1']\n",
    "    return x"
   ]
  },
  {
   "cell_type": "code",
   "execution_count": 7,
   "id": "317362b5",
   "metadata": {},
   "outputs": [
    {
     "data": {
      "text/plain": [
       "DeviceArray(2.344119, dtype=float32)"
      ]
     },
     "execution_count": 7,
     "metadata": {},
     "output_type": "execute_result"
    }
   ],
   "source": [
    "def loss(parameters, x, y):\n",
    "    out = forward(parameters, x)\n",
    "    out = jax.nn.softmax(out)\n",
    "    _loss = -(y * jnp.log(out)).sum(axis=-1).mean()\n",
    "    return _loss\n",
    "\n",
    "loss(net_parameters, test_images, test_labels)"
   ]
  },
  {
   "cell_type": "code",
   "execution_count": 8,
   "id": "b46cf35d",
   "metadata": {},
   "outputs": [
    {
     "data": {
      "text/plain": [
       "DeviceArray(0.10825, dtype=float32)"
      ]
     },
     "execution_count": 8,
     "metadata": {},
     "output_type": "execute_result"
    }
   ],
   "source": [
    "(forward(net_parameters, train_images).argmax(axis=-1) == train_labels.argmax(axis=-1)).mean()"
   ]
  },
  {
   "cell_type": "code",
   "execution_count": 23,
   "id": "6f7f95ac",
   "metadata": {
    "scrolled": true
   },
   "outputs": [
    {
     "name": "stdout",
     "output_type": "stream",
     "text": [
      "epoch 0\n",
      "validation loss: 2.325653076171875\n",
      "train loss: 2.33022403717041\n",
      "accuracy: 0.11901666969060898\n",
      "\n",
      "\n",
      "epoch 1\n",
      "validation loss: 2.309156656265259\n",
      "train loss: 2.314194440841675\n",
      "accuracy: 0.1305333375930786\n",
      "\n",
      "\n",
      "epoch 2\n",
      "validation loss: 2.294065475463867\n",
      "train loss: 2.2995615005493164\n",
      "accuracy: 0.141116663813591\n",
      "\n",
      "\n",
      "epoch 3\n",
      "validation loss: 2.2799882888793945\n",
      "train loss: 2.28590989112854\n",
      "accuracy: 0.15301667153835297\n",
      "\n",
      "\n",
      "epoch 4\n",
      "validation loss: 2.2666354179382324\n",
      "train loss: 2.2729482650756836\n",
      "accuracy: 0.16503334045410156\n",
      "\n",
      "\n",
      "epoch 5\n",
      "validation loss: 2.253762722015381\n",
      "train loss: 2.260450601577759\n",
      "accuracy: 0.17701667547225952\n",
      "\n",
      "\n",
      "epoch 6\n",
      "validation loss: 2.241189479827881\n",
      "train loss: 2.2482340335845947\n",
      "accuracy: 0.1901833415031433\n",
      "\n",
      "\n",
      "epoch 7\n",
      "validation loss: 2.228740930557251\n",
      "train loss: 2.236149311065674\n",
      "accuracy: 0.20288333296775818\n",
      "\n",
      "\n",
      "epoch 8\n",
      "validation loss: 2.216329336166382\n",
      "train loss: 2.2241172790527344\n",
      "accuracy: 0.21641667187213898\n",
      "\n",
      "\n",
      "epoch 9\n",
      "validation loss: 2.203847885131836\n",
      "train loss: 2.212014675140381\n",
      "accuracy: 0.2298000007867813\n",
      "\n",
      "\n",
      "epoch 10\n",
      "validation loss: 2.1912147998809814\n",
      "train loss: 2.199753761291504\n",
      "accuracy: 0.2433166652917862\n",
      "\n",
      "\n",
      "epoch 11\n",
      "validation loss: 2.1783580780029297\n",
      "train loss: 2.1872634887695312\n",
      "accuracy: 0.2560666799545288\n",
      "\n",
      "\n",
      "epoch 12\n",
      "validation loss: 2.1652042865753174\n",
      "train loss: 2.1744771003723145\n",
      "accuracy: 0.27015000581741333\n",
      "\n",
      "\n",
      "epoch 13\n",
      "validation loss: 2.1516737937927246\n",
      "train loss: 2.1613268852233887\n",
      "accuracy: 0.28458333015441895\n",
      "\n",
      "\n",
      "epoch 14\n",
      "validation loss: 2.1377053260803223\n",
      "train loss: 2.147756338119507\n",
      "accuracy: 0.3006666600704193\n",
      "\n",
      "\n",
      "epoch 15\n",
      "validation loss: 2.123263120651245\n",
      "train loss: 2.1337177753448486\n",
      "accuracy: 0.3154166638851166\n",
      "\n",
      "\n",
      "epoch 16\n",
      "validation loss: 2.108307123184204\n",
      "train loss: 2.119180917739868\n",
      "accuracy: 0.3315333425998688\n",
      "\n",
      "\n",
      "epoch 17\n",
      "validation loss: 2.0928139686584473\n",
      "train loss: 2.1041131019592285\n",
      "accuracy: 0.34691667556762695\n",
      "\n",
      "\n",
      "epoch 18\n",
      "validation loss: 2.076758861541748\n",
      "train loss: 2.0884883403778076\n",
      "accuracy: 0.3624666631221771\n",
      "\n",
      "\n",
      "epoch 19\n",
      "validation loss: 2.0601203441619873\n",
      "train loss: 2.072286367416382\n",
      "accuracy: 0.3767000138759613\n",
      "\n",
      "\n",
      "epoch 20\n",
      "validation loss: 2.0428874492645264\n",
      "train loss: 2.055501699447632\n",
      "accuracy: 0.39158332347869873\n",
      "\n",
      "\n",
      "epoch 21\n",
      "validation loss: 2.025057077407837\n",
      "train loss: 2.0381271839141846\n",
      "accuracy: 0.40450000762939453\n",
      "\n",
      "\n",
      "epoch 22\n",
      "validation loss: 2.006622552871704\n",
      "train loss: 2.020162343978882\n",
      "accuracy: 0.4169166684150696\n",
      "\n",
      "\n",
      "epoch 23\n",
      "validation loss: 1.9875884056091309\n",
      "train loss: 2.0016050338745117\n",
      "accuracy: 0.4300333261489868\n",
      "\n",
      "\n",
      "epoch 24\n",
      "validation loss: 1.9679622650146484\n",
      "train loss: 1.9824614524841309\n",
      "accuracy: 0.4414333403110504\n",
      "\n",
      "\n",
      "epoch 25\n",
      "validation loss: 1.947769045829773\n",
      "train loss: 1.962754487991333\n",
      "accuracy: 0.45205000042915344\n",
      "\n",
      "\n",
      "epoch 26\n",
      "validation loss: 1.9270128011703491\n",
      "train loss: 1.9424999952316284\n",
      "accuracy: 0.46273332834243774\n",
      "\n",
      "\n",
      "epoch 27\n",
      "validation loss: 1.9057250022888184\n",
      "train loss: 1.9217113256454468\n",
      "accuracy: 0.4732666611671448\n",
      "\n",
      "\n",
      "epoch 28\n",
      "validation loss: 1.8839339017868042\n",
      "train loss: 1.9004138708114624\n",
      "accuracy: 0.4827499985694885\n",
      "\n",
      "\n",
      "epoch 29\n",
      "validation loss: 1.8616607189178467\n",
      "train loss: 1.8786325454711914\n",
      "accuracy: 0.4923500120639801\n",
      "\n",
      "\n",
      "epoch 30\n",
      "validation loss: 1.838934302330017\n",
      "train loss: 1.8563932180404663\n",
      "accuracy: 0.5014500021934509\n",
      "\n",
      "\n",
      "epoch 31\n",
      "validation loss: 1.8157861232757568\n",
      "train loss: 1.833727240562439\n",
      "accuracy: 0.5093833208084106\n",
      "\n",
      "\n",
      "epoch 32\n",
      "validation loss: 1.7922542095184326\n",
      "train loss: 1.8106716871261597\n",
      "accuracy: 0.517300009727478\n",
      "\n",
      "\n",
      "epoch 33\n",
      "validation loss: 1.7683769464492798\n",
      "train loss: 1.7872583866119385\n",
      "accuracy: 0.5248833298683167\n",
      "\n",
      "\n",
      "epoch 34\n",
      "validation loss: 1.7441884279251099\n",
      "train loss: 1.7635259628295898\n",
      "accuracy: 0.5321166515350342\n",
      "\n",
      "\n",
      "epoch 35\n",
      "validation loss: 1.7197296619415283\n",
      "train loss: 1.7395068407058716\n",
      "accuracy: 0.5390000343322754\n",
      "\n",
      "\n",
      "epoch 36\n",
      "validation loss: 1.695046305656433\n",
      "train loss: 1.7152518033981323\n",
      "accuracy: 0.5457166433334351\n",
      "\n",
      "\n",
      "epoch 37\n",
      "validation loss: 1.6701945066452026\n",
      "train loss: 1.6908067464828491\n",
      "accuracy: 0.5511500239372253\n",
      "\n",
      "\n",
      "epoch 38\n",
      "validation loss: 1.6452194452285767\n",
      "train loss: 1.666221261024475\n",
      "accuracy: 0.5577499866485596\n",
      "\n",
      "\n",
      "epoch 39\n",
      "validation loss: 1.6201732158660889\n",
      "train loss: 1.6415477991104126\n",
      "accuracy: 0.5641999840736389\n",
      "\n",
      "\n",
      "epoch 40\n",
      "validation loss: 1.5951100587844849\n",
      "train loss: 1.6168409585952759\n",
      "accuracy: 0.5704500079154968\n",
      "\n",
      "\n",
      "epoch 41\n",
      "validation loss: 1.57008957862854\n",
      "train loss: 1.5921565294265747\n",
      "accuracy: 0.5764166712760925\n",
      "\n",
      "\n",
      "epoch 42\n",
      "validation loss: 1.545161485671997\n",
      "train loss: 1.5675445795059204\n",
      "accuracy: 0.5825999975204468\n",
      "\n",
      "\n",
      "epoch 43\n",
      "validation loss: 1.520385503768921\n",
      "train loss: 1.5430608987808228\n",
      "accuracy: 0.5887666940689087\n",
      "\n",
      "\n",
      "epoch 44\n",
      "validation loss: 1.4958107471466064\n",
      "train loss: 1.5187571048736572\n",
      "accuracy: 0.595133364200592\n",
      "\n",
      "\n",
      "epoch 45\n",
      "validation loss: 1.4714912176132202\n",
      "train loss: 1.4946843385696411\n",
      "accuracy: 0.6017666459083557\n",
      "\n",
      "\n",
      "epoch 46\n",
      "validation loss: 1.447473406791687\n",
      "train loss: 1.4708905220031738\n",
      "accuracy: 0.6079333424568176\n",
      "\n",
      "\n",
      "epoch 47\n",
      "validation loss: 1.4237964153289795\n",
      "train loss: 1.447415828704834\n",
      "accuracy: 0.6148666739463806\n",
      "\n",
      "\n",
      "epoch 48\n",
      "validation loss: 1.4004981517791748\n",
      "train loss: 1.4242984056472778\n",
      "accuracy: 0.6213333606719971\n",
      "\n",
      "\n",
      "epoch 49\n",
      "validation loss: 1.3776103258132935\n",
      "train loss: 1.401574969291687\n",
      "accuracy: 0.6277333498001099\n",
      "\n",
      "\n",
      "epoch 50\n",
      "validation loss: 1.3551636934280396\n",
      "train loss: 1.3792742490768433\n",
      "accuracy: 0.6346833109855652\n",
      "\n",
      "\n",
      "epoch 51\n",
      "validation loss: 1.3331812620162964\n",
      "train loss: 1.3574204444885254\n",
      "accuracy: 0.6412000060081482\n",
      "\n",
      "\n",
      "epoch 52\n",
      "validation loss: 1.3116819858551025\n",
      "train loss: 1.3360363245010376\n",
      "accuracy: 0.6474500298500061\n",
      "\n",
      "\n",
      "epoch 53\n",
      "validation loss: 1.290683388710022\n",
      "train loss: 1.315137267112732\n",
      "accuracy: 0.6531500220298767\n",
      "\n",
      "\n",
      "epoch 54\n",
      "validation loss: 1.270195722579956\n",
      "train loss: 1.2947337627410889\n",
      "accuracy: 0.6582333445549011\n",
      "\n",
      "\n",
      "epoch 55\n",
      "validation loss: 1.2502282857894897\n",
      "train loss: 1.2748373746871948\n",
      "accuracy: 0.6643166542053223\n",
      "\n",
      "\n",
      "epoch 56\n",
      "validation loss: 1.230786681175232\n",
      "train loss: 1.2554528713226318\n",
      "accuracy: 0.6696500182151794\n",
      "\n",
      "\n",
      "epoch 57\n",
      "validation loss: 1.2118661403656006\n",
      "train loss: 1.236580491065979\n",
      "accuracy: 0.6748166680335999\n",
      "\n",
      "\n",
      "epoch 58\n",
      "validation loss: 1.1934651136398315\n",
      "train loss: 1.218220829963684\n",
      "accuracy: 0.6798333525657654\n",
      "\n",
      "\n",
      "epoch 59\n",
      "validation loss: 1.1755850315093994\n",
      "train loss: 1.2003724575042725\n",
      "accuracy: 0.6847000122070312\n",
      "\n",
      "\n",
      "epoch 60\n",
      "validation loss: 1.1582188606262207\n",
      "train loss: 1.1830294132232666\n",
      "accuracy: 0.6895000338554382\n",
      "\n",
      "\n",
      "epoch 61\n",
      "validation loss: 1.1413578987121582\n",
      "train loss: 1.166185975074768\n",
      "accuracy: 0.6937666535377502\n",
      "\n",
      "\n",
      "epoch 62\n",
      "validation loss: 1.1249934434890747\n",
      "train loss: 1.1498312950134277\n",
      "accuracy: 0.698283314704895\n",
      "\n",
      "\n",
      "epoch 63\n",
      "validation loss: 1.109112024307251\n",
      "train loss: 1.1339550018310547\n",
      "accuracy: 0.702666699886322\n",
      "\n",
      "\n",
      "epoch 64\n",
      "validation loss: 1.0937044620513916\n",
      "train loss: 1.11854887008667\n",
      "accuracy: 0.7071166634559631\n",
      "\n",
      "\n",
      "epoch 65\n",
      "validation loss: 1.0787591934204102\n",
      "train loss: 1.1035995483398438\n",
      "accuracy: 0.7112500071525574\n",
      "\n",
      "\n",
      "epoch 66\n",
      "validation loss: 1.0642608404159546\n",
      "train loss: 1.0890932083129883\n",
      "accuracy: 0.7152166962623596\n",
      "\n",
      "\n",
      "epoch 67\n",
      "validation loss: 1.0501996278762817\n",
      "train loss: 1.0750194787979126\n",
      "accuracy: 0.7191166877746582\n",
      "\n",
      "\n",
      "epoch 68\n",
      "validation loss: 1.0365607738494873\n",
      "train loss: 1.0613656044006348\n",
      "accuracy: 0.7233499884605408\n",
      "\n",
      "\n",
      "epoch 69\n",
      "validation loss: 1.0233324766159058\n",
      "train loss: 1.0481187105178833\n",
      "accuracy: 0.7268833518028259\n",
      "\n",
      "\n",
      "epoch 70\n",
      "validation loss: 1.0105005502700806\n",
      "train loss: 1.035265564918518\n",
      "accuracy: 0.7300333380699158\n",
      "\n",
      "\n",
      "epoch 71\n",
      "validation loss: 0.9980505704879761\n",
      "train loss: 1.0227930545806885\n",
      "accuracy: 0.7330999970436096\n",
      "\n",
      "\n",
      "epoch 72\n",
      "validation loss: 0.9859684109687805\n",
      "train loss: 1.0106885433197021\n",
      "accuracy: 0.7358500361442566\n",
      "\n",
      "\n",
      "epoch 73\n",
      "validation loss: 0.974243700504303\n",
      "train loss: 0.9989408254623413\n",
      "accuracy: 0.7383166551589966\n",
      "\n",
      "\n",
      "epoch 74\n",
      "validation loss: 0.9628630876541138\n",
      "train loss: 0.9875372648239136\n",
      "accuracy: 0.7415833473205566\n",
      "\n",
      "\n",
      "epoch 75\n",
      "validation loss: 0.9518146514892578\n",
      "train loss: 0.97646564245224\n",
      "accuracy: 0.7443666458129883\n",
      "\n",
      "\n",
      "epoch 76\n",
      "validation loss: 0.9410849213600159\n",
      "train loss: 0.9657137989997864\n",
      "accuracy: 0.7472167015075684\n",
      "\n",
      "\n",
      "epoch 77\n",
      "validation loss: 0.930661678314209\n",
      "train loss: 0.9552698135375977\n"
     ]
    },
    {
     "name": "stdout",
     "output_type": "stream",
     "text": [
      "accuracy: 0.7497333288192749\n",
      "\n",
      "\n",
      "epoch 78\n",
      "validation loss: 0.9205339550971985\n",
      "train loss: 0.9451223611831665\n",
      "accuracy: 0.7518166899681091\n",
      "\n",
      "\n",
      "epoch 79\n",
      "validation loss: 0.910693347454071\n",
      "train loss: 0.9352618455886841\n",
      "accuracy: 0.753849983215332\n",
      "\n",
      "\n",
      "epoch 80\n",
      "validation loss: 0.9011291861534119\n",
      "train loss: 0.9256772994995117\n",
      "accuracy: 0.7559000253677368\n",
      "\n",
      "\n",
      "epoch 81\n",
      "validation loss: 0.8918290734291077\n",
      "train loss: 0.9163582921028137\n",
      "accuracy: 0.7578333616256714\n",
      "\n",
      "\n",
      "epoch 82\n",
      "validation loss: 0.882784366607666\n",
      "train loss: 0.9072946906089783\n",
      "accuracy: 0.7597500085830688\n",
      "\n",
      "\n",
      "epoch 83\n",
      "validation loss: 0.8739864230155945\n",
      "train loss: 0.8984774947166443\n",
      "accuracy: 0.7613666653633118\n",
      "\n",
      "\n",
      "epoch 84\n",
      "validation loss: 0.865426242351532\n",
      "train loss: 0.8898985981941223\n",
      "accuracy: 0.7631666660308838\n",
      "\n",
      "\n",
      "epoch 85\n",
      "validation loss: 0.8570940494537354\n",
      "train loss: 0.8815484046936035\n",
      "accuracy: 0.7647833228111267\n",
      "\n",
      "\n",
      "epoch 86\n",
      "validation loss: 0.8489822745323181\n",
      "train loss: 0.8734184503555298\n",
      "accuracy: 0.7667666673660278\n",
      "\n",
      "\n",
      "epoch 87\n",
      "validation loss: 0.841084361076355\n",
      "train loss: 0.865501880645752\n",
      "accuracy: 0.768666684627533\n",
      "\n",
      "\n",
      "epoch 88\n",
      "validation loss: 0.8333913683891296\n",
      "train loss: 0.8577907681465149\n",
      "accuracy: 0.7709000110626221\n",
      "\n",
      "\n",
      "epoch 89\n",
      "validation loss: 0.8258970379829407\n",
      "train loss: 0.8502779006958008\n",
      "accuracy: 0.772350013256073\n",
      "\n",
      "\n",
      "epoch 90\n",
      "validation loss: 0.8185943365097046\n",
      "train loss: 0.8429563045501709\n",
      "accuracy: 0.773983359336853\n",
      "\n",
      "\n",
      "epoch 91\n",
      "validation loss: 0.8114771246910095\n",
      "train loss: 0.8358199596405029\n",
      "accuracy: 0.7755333185195923\n",
      "\n",
      "\n",
      "epoch 92\n",
      "validation loss: 0.8045371174812317\n",
      "train loss: 0.8288623690605164\n",
      "accuracy: 0.7772833704948425\n",
      "\n",
      "\n",
      "epoch 93\n",
      "validation loss: 0.7977679371833801\n",
      "train loss: 0.8220768570899963\n",
      "accuracy: 0.7783333659172058\n",
      "\n",
      "\n",
      "epoch 94\n",
      "validation loss: 0.791164755821228\n",
      "train loss: 0.8154570460319519\n",
      "accuracy: 0.7799000144004822\n",
      "\n",
      "\n",
      "epoch 95\n",
      "validation loss: 0.7847216725349426\n",
      "train loss: 0.8089977502822876\n",
      "accuracy: 0.7817167043685913\n",
      "\n",
      "\n",
      "epoch 96\n",
      "validation loss: 0.7784326672554016\n",
      "train loss: 0.8026934266090393\n",
      "accuracy: 0.7829999923706055\n",
      "\n",
      "\n",
      "epoch 97\n",
      "validation loss: 0.772292971611023\n",
      "train loss: 0.7965388298034668\n",
      "accuracy: 0.7843999862670898\n",
      "\n",
      "\n",
      "epoch 98\n",
      "validation loss: 0.7662984132766724\n",
      "train loss: 0.7905288934707642\n",
      "accuracy: 0.7856667041778564\n",
      "\n",
      "\n",
      "epoch 99\n",
      "validation loss: 0.7604442238807678\n",
      "train loss: 0.7846593856811523\n",
      "accuracy: 0.7869166731834412\n",
      "\n",
      "\n",
      "epoch 100\n",
      "validation loss: 0.7547246813774109\n",
      "train loss: 0.7789257764816284\n",
      "accuracy: 0.7881500124931335\n",
      "\n",
      "\n",
      "epoch 101\n",
      "validation loss: 0.749134361743927\n",
      "train loss: 0.7733229994773865\n",
      "accuracy: 0.7890333533287048\n",
      "\n",
      "\n",
      "epoch 102\n",
      "validation loss: 0.7436697483062744\n",
      "train loss: 0.7678466439247131\n",
      "accuracy: 0.7903167009353638\n",
      "\n",
      "\n",
      "epoch 103\n",
      "validation loss: 0.738326907157898\n",
      "train loss: 0.7624929547309875\n",
      "accuracy: 0.7917166948318481\n",
      "\n",
      "\n",
      "epoch 104\n",
      "validation loss: 0.7331013679504395\n",
      "train loss: 0.7572576999664307\n",
      "accuracy: 0.7927166819572449\n",
      "\n",
      "\n",
      "epoch 105\n",
      "validation loss: 0.7279903292655945\n",
      "train loss: 0.7521373629570007\n",
      "accuracy: 0.7938666939735413\n",
      "\n",
      "\n",
      "epoch 106\n",
      "validation loss: 0.7229900360107422\n",
      "train loss: 0.7471286058425903\n",
      "accuracy: 0.7950000166893005\n",
      "\n",
      "\n",
      "epoch 107\n",
      "validation loss: 0.7180968523025513\n",
      "train loss: 0.7422271966934204\n",
      "accuracy: 0.7960166931152344\n",
      "\n",
      "\n",
      "epoch 108\n",
      "validation loss: 0.7133072018623352\n",
      "train loss: 0.7374299764633179\n",
      "accuracy: 0.7970499992370605\n",
      "\n",
      "\n",
      "epoch 109\n",
      "validation loss: 0.7086182832717896\n",
      "train loss: 0.7327329516410828\n",
      "accuracy: 0.7982500195503235\n",
      "\n",
      "\n",
      "epoch 110\n",
      "validation loss: 0.7040270566940308\n",
      "train loss: 0.7281335592269897\n",
      "accuracy: 0.7994000315666199\n",
      "\n",
      "\n",
      "epoch 111\n",
      "validation loss: 0.6995306611061096\n",
      "train loss: 0.7236294150352478\n",
      "accuracy: 0.800599992275238\n",
      "\n",
      "\n",
      "epoch 112\n",
      "validation loss: 0.6951273083686829\n",
      "train loss: 0.7192176580429077\n",
      "accuracy: 0.8016833662986755\n",
      "\n",
      "\n",
      "epoch 113\n",
      "validation loss: 0.6908140182495117\n",
      "train loss: 0.7148951888084412\n",
      "accuracy: 0.8028500080108643\n",
      "\n",
      "\n",
      "epoch 114\n",
      "validation loss: 0.68658846616745\n",
      "train loss: 0.7106595039367676\n",
      "accuracy: 0.8037166595458984\n",
      "\n",
      "\n",
      "epoch 115\n",
      "validation loss: 0.682447612285614\n",
      "train loss: 0.7065081000328064\n",
      "accuracy: 0.8046666979789734\n",
      "\n",
      "\n",
      "epoch 116\n",
      "validation loss: 0.6783894300460815\n",
      "train loss: 0.7024382948875427\n",
      "accuracy: 0.8055333495140076\n",
      "\n",
      "\n",
      "epoch 117\n",
      "validation loss: 0.6744102239608765\n",
      "train loss: 0.6984478235244751\n",
      "accuracy: 0.8064333200454712\n",
      "\n",
      "\n",
      "epoch 118\n",
      "validation loss: 0.6705079674720764\n",
      "train loss: 0.6945340037345886\n",
      "accuracy: 0.8071666955947876\n",
      "\n",
      "\n",
      "epoch 119\n",
      "validation loss: 0.6666803359985352\n",
      "train loss: 0.6906948089599609\n",
      "accuracy: 0.8080833554267883\n",
      "\n",
      "\n",
      "epoch 120\n",
      "validation loss: 0.6629253029823303\n",
      "train loss: 0.6869282126426697\n",
      "accuracy: 0.8088833689689636\n",
      "\n",
      "\n",
      "epoch 121\n",
      "validation loss: 0.6592401266098022\n",
      "train loss: 0.6832319498062134\n",
      "accuracy: 0.8099333643913269\n",
      "\n",
      "\n",
      "epoch 122\n",
      "validation loss: 0.6556234359741211\n",
      "train loss: 0.6796042919158936\n",
      "accuracy: 0.8109000325202942\n",
      "\n",
      "\n",
      "epoch 123\n",
      "validation loss: 0.6520739197731018\n",
      "train loss: 0.6760434508323669\n",
      "accuracy: 0.8116666674613953\n",
      "\n",
      "\n",
      "epoch 124\n",
      "validation loss: 0.6485900282859802\n",
      "train loss: 0.6725472807884216\n",
      "accuracy: 0.8127000331878662\n",
      "\n",
      "\n",
      "epoch 125\n",
      "validation loss: 0.6451694369316101\n",
      "train loss: 0.6691138744354248\n",
      "accuracy: 0.8132500052452087\n",
      "\n",
      "\n",
      "epoch 126\n",
      "validation loss: 0.6418101787567139\n",
      "train loss: 0.6657411456108093\n",
      "accuracy: 0.8140000104904175\n",
      "\n",
      "\n",
      "epoch 127\n",
      "validation loss: 0.6385110020637512\n",
      "train loss: 0.6624282598495483\n",
      "accuracy: 0.8148666620254517\n",
      "\n",
      "\n",
      "epoch 128\n",
      "validation loss: 0.6352711915969849\n",
      "train loss: 0.659173846244812\n",
      "accuracy: 0.8155166506767273\n",
      "\n",
      "\n",
      "epoch 129\n",
      "validation loss: 0.6320884823799133\n",
      "train loss: 0.6559756994247437\n",
      "accuracy: 0.8163999915122986\n",
      "\n",
      "\n",
      "epoch 130\n",
      "validation loss: 0.6289609670639038\n",
      "train loss: 0.6528327465057373\n",
      "accuracy: 0.817300021648407\n",
      "\n",
      "\n",
      "epoch 131\n",
      "validation loss: 0.6258863806724548\n",
      "train loss: 0.6497432589530945\n",
      "accuracy: 0.818149983882904\n",
      "\n",
      "\n",
      "epoch 132\n",
      "validation loss: 0.6228632926940918\n",
      "train loss: 0.6467057466506958\n",
      "accuracy: 0.8190333247184753\n",
      "\n",
      "\n",
      "epoch 133\n",
      "validation loss: 0.6198917031288147\n",
      "train loss: 0.6437190771102905\n",
      "accuracy: 0.819433331489563\n",
      "\n",
      "\n",
      "epoch 134\n",
      "validation loss: 0.6169707775115967\n",
      "train loss: 0.6407820582389832\n",
      "accuracy: 0.8201666474342346\n",
      "\n",
      "\n",
      "epoch 135\n",
      "validation loss: 0.614098072052002\n",
      "train loss: 0.6378934383392334\n",
      "accuracy: 0.820816695690155\n",
      "\n",
      "\n",
      "epoch 136\n",
      "validation loss: 0.6112725138664246\n",
      "train loss: 0.6350516080856323\n",
      "accuracy: 0.8213500380516052\n",
      "\n",
      "\n",
      "epoch 137\n",
      "validation loss: 0.6084927320480347\n",
      "train loss: 0.6322555541992188\n",
      "accuracy: 0.8218500018119812\n",
      "\n",
      "\n",
      "epoch 138\n",
      "validation loss: 0.6057590842247009\n",
      "train loss: 0.6295046806335449\n",
      "accuracy: 0.8222833275794983\n",
      "\n",
      "\n",
      "epoch 139\n",
      "validation loss: 0.6030691266059875\n",
      "train loss: 0.6267970204353333\n",
      "accuracy: 0.8230666518211365\n",
      "\n",
      "\n",
      "epoch 140\n",
      "validation loss: 0.6004220843315125\n",
      "train loss: 0.6241322755813599\n",
      "accuracy: 0.8233667016029358\n",
      "\n",
      "\n",
      "epoch 141\n",
      "validation loss: 0.5978172421455383\n",
      "train loss: 0.621509313583374\n",
      "accuracy: 0.8239666819572449\n",
      "\n",
      "\n",
      "epoch 142\n",
      "validation loss: 0.5952529311180115\n",
      "train loss: 0.618927001953125\n",
      "accuracy: 0.8246666789054871\n",
      "\n",
      "\n",
      "epoch 143\n",
      "validation loss: 0.5927286744117737\n",
      "train loss: 0.6163846254348755\n",
      "accuracy: 0.8253666758537292\n",
      "\n",
      "\n",
      "epoch 144\n",
      "validation loss: 0.5902432799339294\n",
      "train loss: 0.6138808727264404\n",
      "accuracy: 0.826033353805542\n",
      "\n",
      "\n",
      "epoch 145\n",
      "validation loss: 0.587795615196228\n",
      "train loss: 0.6114146709442139\n",
      "accuracy: 0.8266167044639587\n",
      "\n",
      "\n",
      "epoch 146\n",
      "validation loss: 0.5853849649429321\n",
      "train loss: 0.608985424041748\n",
      "accuracy: 0.8271833658218384\n",
      "\n",
      "\n",
      "epoch 147\n",
      "validation loss: 0.5830106139183044\n",
      "train loss: 0.6065924763679504\n",
      "accuracy: 0.8278666734695435\n",
      "\n",
      "\n",
      "epoch 148\n",
      "validation loss: 0.5806713700294495\n",
      "train loss: 0.6042346358299255\n",
      "accuracy: 0.8284167051315308\n",
      "\n",
      "\n",
      "epoch 149\n",
      "validation loss: 0.5783661007881165\n",
      "train loss: 0.6019110679626465\n",
      "accuracy: 0.8288833498954773\n",
      "\n",
      "\n",
      "epoch 150\n",
      "validation loss: 0.5760942101478577\n",
      "train loss: 0.5996209979057312\n",
      "accuracy: 0.8294000029563904\n",
      "\n",
      "\n",
      "epoch 151\n",
      "validation loss: 0.5738553404808044\n",
      "train loss: 0.5973636507987976\n",
      "accuracy: 0.8297333717346191\n",
      "\n",
      "\n",
      "epoch 152\n",
      "validation loss: 0.5716488361358643\n",
      "train loss: 0.5951381325721741\n",
      "accuracy: 0.8304833173751831\n",
      "\n",
      "\n",
      "epoch 153\n",
      "validation loss: 0.5694742798805237\n",
      "train loss: 0.5929442048072815\n",
      "accuracy: 0.8310999870300293\n",
      "\n",
      "\n",
      "epoch 154\n",
      "validation loss: 0.5673302412033081\n",
      "train loss: 0.5907807946205139\n"
     ]
    },
    {
     "name": "stdout",
     "output_type": "stream",
     "text": [
      "accuracy: 0.8317166566848755\n",
      "\n",
      "\n",
      "epoch 155\n",
      "validation loss: 0.5652155876159668\n",
      "train loss: 0.5886468887329102\n",
      "accuracy: 0.8323667049407959\n",
      "\n",
      "\n",
      "epoch 156\n",
      "validation loss: 0.5631305575370789\n",
      "train loss: 0.5865421891212463\n",
      "accuracy: 0.8329333662986755\n",
      "\n",
      "\n",
      "epoch 157\n",
      "validation loss: 0.5610747337341309\n",
      "train loss: 0.5844664573669434\n",
      "accuracy: 0.8335999846458435\n",
      "\n",
      "\n",
      "epoch 158\n",
      "validation loss: 0.5590470433235168\n",
      "train loss: 0.5824190378189087\n",
      "accuracy: 0.8342666625976562\n",
      "\n",
      "\n",
      "epoch 159\n",
      "validation loss: 0.5570471882820129\n",
      "train loss: 0.5803986191749573\n",
      "accuracy: 0.8348166942596436\n",
      "\n",
      "\n",
      "epoch 160\n",
      "validation loss: 0.5550748109817505\n",
      "train loss: 0.5784051418304443\n",
      "accuracy: 0.8352833390235901\n",
      "\n",
      "\n",
      "epoch 161\n",
      "validation loss: 0.5531283020973206\n",
      "train loss: 0.5764380097389221\n",
      "accuracy: 0.8358500003814697\n",
      "\n",
      "\n",
      "epoch 162\n",
      "validation loss: 0.5512080788612366\n",
      "train loss: 0.574496865272522\n",
      "accuracy: 0.8363333344459534\n",
      "\n",
      "\n",
      "epoch 163\n",
      "validation loss: 0.549313485622406\n",
      "train loss: 0.57258141040802\n",
      "accuracy: 0.836733341217041\n",
      "\n",
      "\n",
      "epoch 164\n",
      "validation loss: 0.547443151473999\n",
      "train loss: 0.5706905126571655\n",
      "accuracy: 0.8373333215713501\n",
      "\n",
      "\n",
      "epoch 165\n",
      "validation loss: 0.5455973744392395\n",
      "train loss: 0.5688239932060242\n",
      "accuracy: 0.8377666473388672\n",
      "\n",
      "\n",
      "epoch 166\n",
      "validation loss: 0.5437754988670349\n",
      "train loss: 0.5669811367988586\n",
      "accuracy: 0.8381833434104919\n",
      "\n",
      "\n",
      "epoch 167\n",
      "validation loss: 0.5419772863388062\n",
      "train loss: 0.5651617050170898\n",
      "accuracy: 0.8386833667755127\n",
      "\n",
      "\n",
      "epoch 168\n",
      "validation loss: 0.5402016639709473\n",
      "train loss: 0.5633649826049805\n",
      "accuracy: 0.8393166661262512\n",
      "\n",
      "\n",
      "epoch 169\n",
      "validation loss: 0.5384486317634583\n",
      "train loss: 0.5615907907485962\n",
      "accuracy: 0.839900016784668\n",
      "\n",
      "\n",
      "epoch 170\n",
      "validation loss: 0.5367172956466675\n",
      "train loss: 0.5598388910293579\n",
      "accuracy: 0.8402833342552185\n",
      "\n",
      "\n",
      "epoch 171\n",
      "validation loss: 0.5350069403648376\n",
      "train loss: 0.5581084489822388\n",
      "accuracy: 0.8408166766166687\n",
      "\n",
      "\n",
      "epoch 172\n",
      "validation loss: 0.5333181619644165\n",
      "train loss: 0.5563989877700806\n",
      "accuracy: 0.8413000106811523\n",
      "\n",
      "\n",
      "epoch 173\n",
      "validation loss: 0.5316504240036011\n",
      "train loss: 0.5547100305557251\n",
      "accuracy: 0.8417166471481323\n",
      "\n",
      "\n",
      "epoch 174\n",
      "validation loss: 0.5300025939941406\n",
      "train loss: 0.5530412793159485\n",
      "accuracy: 0.8422833681106567\n",
      "\n",
      "\n",
      "epoch 175\n",
      "validation loss: 0.5283743143081665\n",
      "train loss: 0.5513922572135925\n",
      "accuracy: 0.8424833416938782\n",
      "\n",
      "\n",
      "epoch 176\n",
      "validation loss: 0.5267654061317444\n",
      "train loss: 0.5497629642486572\n",
      "accuracy: 0.8429166674613953\n",
      "\n",
      "\n",
      "epoch 177\n",
      "validation loss: 0.5251754522323608\n",
      "train loss: 0.5481528639793396\n",
      "accuracy: 0.8434666991233826\n",
      "\n",
      "\n",
      "epoch 178\n",
      "validation loss: 0.5236042141914368\n",
      "train loss: 0.5465614795684814\n",
      "accuracy: 0.8439000248908997\n",
      "\n",
      "\n",
      "epoch 179\n",
      "validation loss: 0.5220514535903931\n",
      "train loss: 0.5449884533882141\n",
      "accuracy: 0.8443833589553833\n",
      "\n",
      "\n",
      "epoch 180\n",
      "validation loss: 0.5205163955688477\n",
      "train loss: 0.5434333086013794\n",
      "accuracy: 0.8448833227157593\n",
      "\n",
      "\n",
      "epoch 181\n",
      "validation loss: 0.5189986228942871\n",
      "train loss: 0.5418957471847534\n",
      "accuracy: 0.8453333377838135\n",
      "\n",
      "\n",
      "epoch 182\n",
      "validation loss: 0.5174984931945801\n",
      "train loss: 0.5403751730918884\n",
      "accuracy: 0.8458166718482971\n",
      "\n",
      "\n",
      "epoch 183\n",
      "validation loss: 0.5160152912139893\n",
      "train loss: 0.5388718247413635\n",
      "accuracy: 0.8462333679199219\n",
      "\n",
      "\n",
      "epoch 184\n",
      "validation loss: 0.5145493149757385\n",
      "train loss: 0.5373854041099548\n",
      "accuracy: 0.8466833233833313\n",
      "\n",
      "\n",
      "epoch 185\n",
      "validation loss: 0.5130996108055115\n",
      "train loss: 0.5359153747558594\n",
      "accuracy: 0.8470500111579895\n",
      "\n",
      "\n",
      "epoch 186\n",
      "validation loss: 0.5116654634475708\n",
      "train loss: 0.5344614386558533\n",
      "accuracy: 0.8473666906356812\n",
      "\n",
      "\n",
      "epoch 187\n",
      "validation loss: 0.5102472305297852\n",
      "train loss: 0.5330232381820679\n",
      "accuracy: 0.8477833271026611\n",
      "\n",
      "\n",
      "epoch 188\n",
      "validation loss: 0.5088443160057068\n",
      "train loss: 0.531600832939148\n",
      "accuracy: 0.8482333421707153\n",
      "\n",
      "\n",
      "epoch 189\n",
      "validation loss: 0.5074569582939148\n",
      "train loss: 0.5301941633224487\n",
      "accuracy: 0.8485000133514404\n",
      "\n",
      "\n",
      "epoch 190\n",
      "validation loss: 0.5060853362083435\n",
      "train loss: 0.5288025736808777\n",
      "accuracy: 0.8488166928291321\n",
      "\n",
      "\n",
      "epoch 191\n",
      "validation loss: 0.5047287940979004\n",
      "train loss: 0.5274255871772766\n",
      "accuracy: 0.8493333458900452\n",
      "\n",
      "\n",
      "epoch 192\n",
      "validation loss: 0.5033869743347168\n",
      "train loss: 0.5260634422302246\n",
      "accuracy: 0.8497333526611328\n",
      "\n",
      "\n",
      "epoch 193\n",
      "validation loss: 0.502060055732727\n",
      "train loss: 0.5247159600257874\n",
      "accuracy: 0.8500999808311462\n",
      "\n",
      "\n",
      "epoch 194\n",
      "validation loss: 0.5007474422454834\n",
      "train loss: 0.5233829021453857\n",
      "accuracy: 0.8504999876022339\n",
      "\n",
      "\n",
      "epoch 195\n",
      "validation loss: 0.4994488060474396\n",
      "train loss: 0.5220640897750854\n",
      "accuracy: 0.850683331489563\n",
      "\n",
      "\n",
      "epoch 196\n",
      "validation loss: 0.49816370010375977\n",
      "train loss: 0.5207593441009521\n",
      "accuracy: 0.8512666821479797\n",
      "\n",
      "\n",
      "epoch 197\n",
      "validation loss: 0.49689212441444397\n",
      "train loss: 0.5194678902626038\n",
      "accuracy: 0.8516499996185303\n",
      "\n",
      "\n",
      "epoch 198\n",
      "validation loss: 0.4956337809562683\n",
      "train loss: 0.5181896686553955\n",
      "accuracy: 0.8520333170890808\n",
      "\n",
      "\n",
      "epoch 199\n",
      "validation loss: 0.49438855051994324\n",
      "train loss: 0.5169245004653931\n",
      "accuracy: 0.8525000214576721\n",
      "\n",
      "\n"
     ]
    }
   ],
   "source": [
    "grad_loss = jax.grad(loss)\n",
    "lr = 0.1\n",
    "\n",
    "for epoch in range(200):\n",
    "\n",
    "    p_grad = grad_loss(net_parameters, train_images, train_labels)\n",
    "\n",
    "    net_parameters['w0'] -= lr * p_grad['w0']\n",
    "    net_parameters['w1'] -= lr * p_grad['w1']\n",
    "    \n",
    "    #visualize_images(-p_grad['w0'].T)\n",
    "        \n",
    "    print(f\"epoch {epoch}\")\n",
    "    print(f\"validation loss: {loss(net_parameters, test_images, test_labels)}\")\n",
    "    print(f\"train loss: {loss(net_parameters, train_images, train_labels)}\")\n",
    "    acc = (forward(net_parameters, train_images).argmax(axis=-1) == train_labels.argmax(axis=-1)).mean()\n",
    "    print(f\"accuracy: {acc}\")\n",
    "    print(\"\\n\")"
   ]
  },
  {
   "cell_type": "code",
   "execution_count": 25,
   "id": "0b2a19ea",
   "metadata": {},
   "outputs": [
    {
     "data": {
      "application/vnd.plotly.v1+json": {
       "config": {
        "plotlyServerURL": "https://plot.ly"
       },
       "data": [
        {
         "hovertemplate": "variable=0<br>index=%{x}<br>value=%{y}<extra></extra>",
         "legendgroup": "0",
         "line": {
          "color": "#636efa",
          "dash": "solid",
          "shape": "spline"
         },
         "marker": {
          "symbol": "circle"
         },
         "mode": "lines",
         "name": "0",
         "orientation": "v",
         "showlegend": true,
         "type": "scatter",
         "x": [
          0,
          1,
          2,
          3,
          4,
          5,
          6,
          7,
          8,
          9
         ],
         "xaxis": "x",
         "y": [
          46,
          633,
          2319,
          3004,
          2249,
          1170,
          413,
          134,
          28,
          4
         ],
         "yaxis": "y"
        }
       ],
       "layout": {
        "legend": {
         "title": {
          "text": "variable"
         },
         "tracegroupgap": 0
        },
        "margin": {
         "t": 60
        },
        "template": {
         "data": {
          "bar": [
           {
            "error_x": {
             "color": "#2a3f5f"
            },
            "error_y": {
             "color": "#2a3f5f"
            },
            "marker": {
             "line": {
              "color": "#E5ECF6",
              "width": 0.5
             },
             "pattern": {
              "fillmode": "overlay",
              "size": 10,
              "solidity": 0.2
             }
            },
            "type": "bar"
           }
          ],
          "barpolar": [
           {
            "marker": {
             "line": {
              "color": "#E5ECF6",
              "width": 0.5
             },
             "pattern": {
              "fillmode": "overlay",
              "size": 10,
              "solidity": 0.2
             }
            },
            "type": "barpolar"
           }
          ],
          "carpet": [
           {
            "aaxis": {
             "endlinecolor": "#2a3f5f",
             "gridcolor": "white",
             "linecolor": "white",
             "minorgridcolor": "white",
             "startlinecolor": "#2a3f5f"
            },
            "baxis": {
             "endlinecolor": "#2a3f5f",
             "gridcolor": "white",
             "linecolor": "white",
             "minorgridcolor": "white",
             "startlinecolor": "#2a3f5f"
            },
            "type": "carpet"
           }
          ],
          "choropleth": [
           {
            "colorbar": {
             "outlinewidth": 0,
             "ticks": ""
            },
            "type": "choropleth"
           }
          ],
          "contour": [
           {
            "colorbar": {
             "outlinewidth": 0,
             "ticks": ""
            },
            "colorscale": [
             [
              0,
              "#0d0887"
             ],
             [
              0.1111111111111111,
              "#46039f"
             ],
             [
              0.2222222222222222,
              "#7201a8"
             ],
             [
              0.3333333333333333,
              "#9c179e"
             ],
             [
              0.4444444444444444,
              "#bd3786"
             ],
             [
              0.5555555555555556,
              "#d8576b"
             ],
             [
              0.6666666666666666,
              "#ed7953"
             ],
             [
              0.7777777777777778,
              "#fb9f3a"
             ],
             [
              0.8888888888888888,
              "#fdca26"
             ],
             [
              1,
              "#f0f921"
             ]
            ],
            "type": "contour"
           }
          ],
          "contourcarpet": [
           {
            "colorbar": {
             "outlinewidth": 0,
             "ticks": ""
            },
            "type": "contourcarpet"
           }
          ],
          "heatmap": [
           {
            "colorbar": {
             "outlinewidth": 0,
             "ticks": ""
            },
            "colorscale": [
             [
              0,
              "#0d0887"
             ],
             [
              0.1111111111111111,
              "#46039f"
             ],
             [
              0.2222222222222222,
              "#7201a8"
             ],
             [
              0.3333333333333333,
              "#9c179e"
             ],
             [
              0.4444444444444444,
              "#bd3786"
             ],
             [
              0.5555555555555556,
              "#d8576b"
             ],
             [
              0.6666666666666666,
              "#ed7953"
             ],
             [
              0.7777777777777778,
              "#fb9f3a"
             ],
             [
              0.8888888888888888,
              "#fdca26"
             ],
             [
              1,
              "#f0f921"
             ]
            ],
            "type": "heatmap"
           }
          ],
          "heatmapgl": [
           {
            "colorbar": {
             "outlinewidth": 0,
             "ticks": ""
            },
            "colorscale": [
             [
              0,
              "#0d0887"
             ],
             [
              0.1111111111111111,
              "#46039f"
             ],
             [
              0.2222222222222222,
              "#7201a8"
             ],
             [
              0.3333333333333333,
              "#9c179e"
             ],
             [
              0.4444444444444444,
              "#bd3786"
             ],
             [
              0.5555555555555556,
              "#d8576b"
             ],
             [
              0.6666666666666666,
              "#ed7953"
             ],
             [
              0.7777777777777778,
              "#fb9f3a"
             ],
             [
              0.8888888888888888,
              "#fdca26"
             ],
             [
              1,
              "#f0f921"
             ]
            ],
            "type": "heatmapgl"
           }
          ],
          "histogram": [
           {
            "marker": {
             "pattern": {
              "fillmode": "overlay",
              "size": 10,
              "solidity": 0.2
             }
            },
            "type": "histogram"
           }
          ],
          "histogram2d": [
           {
            "colorbar": {
             "outlinewidth": 0,
             "ticks": ""
            },
            "colorscale": [
             [
              0,
              "#0d0887"
             ],
             [
              0.1111111111111111,
              "#46039f"
             ],
             [
              0.2222222222222222,
              "#7201a8"
             ],
             [
              0.3333333333333333,
              "#9c179e"
             ],
             [
              0.4444444444444444,
              "#bd3786"
             ],
             [
              0.5555555555555556,
              "#d8576b"
             ],
             [
              0.6666666666666666,
              "#ed7953"
             ],
             [
              0.7777777777777778,
              "#fb9f3a"
             ],
             [
              0.8888888888888888,
              "#fdca26"
             ],
             [
              1,
              "#f0f921"
             ]
            ],
            "type": "histogram2d"
           }
          ],
          "histogram2dcontour": [
           {
            "colorbar": {
             "outlinewidth": 0,
             "ticks": ""
            },
            "colorscale": [
             [
              0,
              "#0d0887"
             ],
             [
              0.1111111111111111,
              "#46039f"
             ],
             [
              0.2222222222222222,
              "#7201a8"
             ],
             [
              0.3333333333333333,
              "#9c179e"
             ],
             [
              0.4444444444444444,
              "#bd3786"
             ],
             [
              0.5555555555555556,
              "#d8576b"
             ],
             [
              0.6666666666666666,
              "#ed7953"
             ],
             [
              0.7777777777777778,
              "#fb9f3a"
             ],
             [
              0.8888888888888888,
              "#fdca26"
             ],
             [
              1,
              "#f0f921"
             ]
            ],
            "type": "histogram2dcontour"
           }
          ],
          "mesh3d": [
           {
            "colorbar": {
             "outlinewidth": 0,
             "ticks": ""
            },
            "type": "mesh3d"
           }
          ],
          "parcoords": [
           {
            "line": {
             "colorbar": {
              "outlinewidth": 0,
              "ticks": ""
             }
            },
            "type": "parcoords"
           }
          ],
          "pie": [
           {
            "automargin": true,
            "type": "pie"
           }
          ],
          "scatter": [
           {
            "fillpattern": {
             "fillmode": "overlay",
             "size": 10,
             "solidity": 0.2
            },
            "type": "scatter"
           }
          ],
          "scatter3d": [
           {
            "line": {
             "colorbar": {
              "outlinewidth": 0,
              "ticks": ""
             }
            },
            "marker": {
             "colorbar": {
              "outlinewidth": 0,
              "ticks": ""
             }
            },
            "type": "scatter3d"
           }
          ],
          "scattercarpet": [
           {
            "marker": {
             "colorbar": {
              "outlinewidth": 0,
              "ticks": ""
             }
            },
            "type": "scattercarpet"
           }
          ],
          "scattergeo": [
           {
            "marker": {
             "colorbar": {
              "outlinewidth": 0,
              "ticks": ""
             }
            },
            "type": "scattergeo"
           }
          ],
          "scattergl": [
           {
            "marker": {
             "colorbar": {
              "outlinewidth": 0,
              "ticks": ""
             }
            },
            "type": "scattergl"
           }
          ],
          "scattermapbox": [
           {
            "marker": {
             "colorbar": {
              "outlinewidth": 0,
              "ticks": ""
             }
            },
            "type": "scattermapbox"
           }
          ],
          "scatterpolar": [
           {
            "marker": {
             "colorbar": {
              "outlinewidth": 0,
              "ticks": ""
             }
            },
            "type": "scatterpolar"
           }
          ],
          "scatterpolargl": [
           {
            "marker": {
             "colorbar": {
              "outlinewidth": 0,
              "ticks": ""
             }
            },
            "type": "scatterpolargl"
           }
          ],
          "scatterternary": [
           {
            "marker": {
             "colorbar": {
              "outlinewidth": 0,
              "ticks": ""
             }
            },
            "type": "scatterternary"
           }
          ],
          "surface": [
           {
            "colorbar": {
             "outlinewidth": 0,
             "ticks": ""
            },
            "colorscale": [
             [
              0,
              "#0d0887"
             ],
             [
              0.1111111111111111,
              "#46039f"
             ],
             [
              0.2222222222222222,
              "#7201a8"
             ],
             [
              0.3333333333333333,
              "#9c179e"
             ],
             [
              0.4444444444444444,
              "#bd3786"
             ],
             [
              0.5555555555555556,
              "#d8576b"
             ],
             [
              0.6666666666666666,
              "#ed7953"
             ],
             [
              0.7777777777777778,
              "#fb9f3a"
             ],
             [
              0.8888888888888888,
              "#fdca26"
             ],
             [
              1,
              "#f0f921"
             ]
            ],
            "type": "surface"
           }
          ],
          "table": [
           {
            "cells": {
             "fill": {
              "color": "#EBF0F8"
             },
             "line": {
              "color": "white"
             }
            },
            "header": {
             "fill": {
              "color": "#C8D4E3"
             },
             "line": {
              "color": "white"
             }
            },
            "type": "table"
           }
          ]
         },
         "layout": {
          "annotationdefaults": {
           "arrowcolor": "#2a3f5f",
           "arrowhead": 0,
           "arrowwidth": 1
          },
          "autotypenumbers": "strict",
          "coloraxis": {
           "colorbar": {
            "outlinewidth": 0,
            "ticks": ""
           }
          },
          "colorscale": {
           "diverging": [
            [
             0,
             "#8e0152"
            ],
            [
             0.1,
             "#c51b7d"
            ],
            [
             0.2,
             "#de77ae"
            ],
            [
             0.3,
             "#f1b6da"
            ],
            [
             0.4,
             "#fde0ef"
            ],
            [
             0.5,
             "#f7f7f7"
            ],
            [
             0.6,
             "#e6f5d0"
            ],
            [
             0.7,
             "#b8e186"
            ],
            [
             0.8,
             "#7fbc41"
            ],
            [
             0.9,
             "#4d9221"
            ],
            [
             1,
             "#276419"
            ]
           ],
           "sequential": [
            [
             0,
             "#0d0887"
            ],
            [
             0.1111111111111111,
             "#46039f"
            ],
            [
             0.2222222222222222,
             "#7201a8"
            ],
            [
             0.3333333333333333,
             "#9c179e"
            ],
            [
             0.4444444444444444,
             "#bd3786"
            ],
            [
             0.5555555555555556,
             "#d8576b"
            ],
            [
             0.6666666666666666,
             "#ed7953"
            ],
            [
             0.7777777777777778,
             "#fb9f3a"
            ],
            [
             0.8888888888888888,
             "#fdca26"
            ],
            [
             1,
             "#f0f921"
            ]
           ],
           "sequentialminus": [
            [
             0,
             "#0d0887"
            ],
            [
             0.1111111111111111,
             "#46039f"
            ],
            [
             0.2222222222222222,
             "#7201a8"
            ],
            [
             0.3333333333333333,
             "#9c179e"
            ],
            [
             0.4444444444444444,
             "#bd3786"
            ],
            [
             0.5555555555555556,
             "#d8576b"
            ],
            [
             0.6666666666666666,
             "#ed7953"
            ],
            [
             0.7777777777777778,
             "#fb9f3a"
            ],
            [
             0.8888888888888888,
             "#fdca26"
            ],
            [
             1,
             "#f0f921"
            ]
           ]
          },
          "colorway": [
           "#636efa",
           "#EF553B",
           "#00cc96",
           "#ab63fa",
           "#FFA15A",
           "#19d3f3",
           "#FF6692",
           "#B6E880",
           "#FF97FF",
           "#FECB52"
          ],
          "font": {
           "color": "#2a3f5f"
          },
          "geo": {
           "bgcolor": "white",
           "lakecolor": "white",
           "landcolor": "#E5ECF6",
           "showlakes": true,
           "showland": true,
           "subunitcolor": "white"
          },
          "hoverlabel": {
           "align": "left"
          },
          "hovermode": "closest",
          "mapbox": {
           "style": "light"
          },
          "paper_bgcolor": "white",
          "plot_bgcolor": "#E5ECF6",
          "polar": {
           "angularaxis": {
            "gridcolor": "white",
            "linecolor": "white",
            "ticks": ""
           },
           "bgcolor": "#E5ECF6",
           "radialaxis": {
            "gridcolor": "white",
            "linecolor": "white",
            "ticks": ""
           }
          },
          "scene": {
           "xaxis": {
            "backgroundcolor": "#E5ECF6",
            "gridcolor": "white",
            "gridwidth": 2,
            "linecolor": "white",
            "showbackground": true,
            "ticks": "",
            "zerolinecolor": "white"
           },
           "yaxis": {
            "backgroundcolor": "#E5ECF6",
            "gridcolor": "white",
            "gridwidth": 2,
            "linecolor": "white",
            "showbackground": true,
            "ticks": "",
            "zerolinecolor": "white"
           },
           "zaxis": {
            "backgroundcolor": "#E5ECF6",
            "gridcolor": "white",
            "gridwidth": 2,
            "linecolor": "white",
            "showbackground": true,
            "ticks": "",
            "zerolinecolor": "white"
           }
          },
          "shapedefaults": {
           "line": {
            "color": "#2a3f5f"
           }
          },
          "ternary": {
           "aaxis": {
            "gridcolor": "white",
            "linecolor": "white",
            "ticks": ""
           },
           "baxis": {
            "gridcolor": "white",
            "linecolor": "white",
            "ticks": ""
           },
           "bgcolor": "#E5ECF6",
           "caxis": {
            "gridcolor": "white",
            "linecolor": "white",
            "ticks": ""
           }
          },
          "title": {
           "x": 0.05
          },
          "xaxis": {
           "automargin": true,
           "gridcolor": "white",
           "linecolor": "white",
           "ticks": "",
           "title": {
            "standoff": 15
           },
           "zerolinecolor": "white",
           "zerolinewidth": 2
          },
          "yaxis": {
           "automargin": true,
           "gridcolor": "white",
           "linecolor": "white",
           "ticks": "",
           "title": {
            "standoff": 15
           },
           "zerolinecolor": "white",
           "zerolinewidth": 2
          }
         }
        },
        "xaxis": {
         "anchor": "y",
         "domain": [
          0,
          1
         ],
         "title": {
          "text": "index"
         }
        },
        "yaxis": {
         "anchor": "x",
         "domain": [
          0,
          1
         ],
         "title": {
          "text": "value"
         }
        }
       }
      },
      "text/html": [
       "<div>                            <div id=\"57374458-9982-4d6e-8bdd-dd7b2df20b56\" class=\"plotly-graph-div\" style=\"height:525px; width:100%;\"></div>            <script type=\"text/javascript\">                require([\"plotly\"], function(Plotly) {                    window.PLOTLYENV=window.PLOTLYENV || {};                                    if (document.getElementById(\"57374458-9982-4d6e-8bdd-dd7b2df20b56\")) {                    Plotly.newPlot(                        \"57374458-9982-4d6e-8bdd-dd7b2df20b56\",                        [{\"hovertemplate\":\"variable=0<br>index=%{x}<br>value=%{y}<extra></extra>\",\"legendgroup\":\"0\",\"line\":{\"color\":\"#636efa\",\"dash\":\"solid\",\"shape\":\"spline\"},\"marker\":{\"symbol\":\"circle\"},\"mode\":\"lines\",\"name\":\"0\",\"orientation\":\"v\",\"showlegend\":true,\"x\":[0,1,2,3,4,5,6,7,8,9],\"xaxis\":\"x\",\"y\":[46,633,2319,3004,2249,1170,413,134,28,4],\"yaxis\":\"y\",\"type\":\"scatter\"}],                        {\"template\":{\"data\":{\"histogram2dcontour\":[{\"type\":\"histogram2dcontour\",\"colorbar\":{\"outlinewidth\":0,\"ticks\":\"\"},\"colorscale\":[[0.0,\"#0d0887\"],[0.1111111111111111,\"#46039f\"],[0.2222222222222222,\"#7201a8\"],[0.3333333333333333,\"#9c179e\"],[0.4444444444444444,\"#bd3786\"],[0.5555555555555556,\"#d8576b\"],[0.6666666666666666,\"#ed7953\"],[0.7777777777777778,\"#fb9f3a\"],[0.8888888888888888,\"#fdca26\"],[1.0,\"#f0f921\"]]}],\"choropleth\":[{\"type\":\"choropleth\",\"colorbar\":{\"outlinewidth\":0,\"ticks\":\"\"}}],\"histogram2d\":[{\"type\":\"histogram2d\",\"colorbar\":{\"outlinewidth\":0,\"ticks\":\"\"},\"colorscale\":[[0.0,\"#0d0887\"],[0.1111111111111111,\"#46039f\"],[0.2222222222222222,\"#7201a8\"],[0.3333333333333333,\"#9c179e\"],[0.4444444444444444,\"#bd3786\"],[0.5555555555555556,\"#d8576b\"],[0.6666666666666666,\"#ed7953\"],[0.7777777777777778,\"#fb9f3a\"],[0.8888888888888888,\"#fdca26\"],[1.0,\"#f0f921\"]]}],\"heatmap\":[{\"type\":\"heatmap\",\"colorbar\":{\"outlinewidth\":0,\"ticks\":\"\"},\"colorscale\":[[0.0,\"#0d0887\"],[0.1111111111111111,\"#46039f\"],[0.2222222222222222,\"#7201a8\"],[0.3333333333333333,\"#9c179e\"],[0.4444444444444444,\"#bd3786\"],[0.5555555555555556,\"#d8576b\"],[0.6666666666666666,\"#ed7953\"],[0.7777777777777778,\"#fb9f3a\"],[0.8888888888888888,\"#fdca26\"],[1.0,\"#f0f921\"]]}],\"heatmapgl\":[{\"type\":\"heatmapgl\",\"colorbar\":{\"outlinewidth\":0,\"ticks\":\"\"},\"colorscale\":[[0.0,\"#0d0887\"],[0.1111111111111111,\"#46039f\"],[0.2222222222222222,\"#7201a8\"],[0.3333333333333333,\"#9c179e\"],[0.4444444444444444,\"#bd3786\"],[0.5555555555555556,\"#d8576b\"],[0.6666666666666666,\"#ed7953\"],[0.7777777777777778,\"#fb9f3a\"],[0.8888888888888888,\"#fdca26\"],[1.0,\"#f0f921\"]]}],\"contourcarpet\":[{\"type\":\"contourcarpet\",\"colorbar\":{\"outlinewidth\":0,\"ticks\":\"\"}}],\"contour\":[{\"type\":\"contour\",\"colorbar\":{\"outlinewidth\":0,\"ticks\":\"\"},\"colorscale\":[[0.0,\"#0d0887\"],[0.1111111111111111,\"#46039f\"],[0.2222222222222222,\"#7201a8\"],[0.3333333333333333,\"#9c179e\"],[0.4444444444444444,\"#bd3786\"],[0.5555555555555556,\"#d8576b\"],[0.6666666666666666,\"#ed7953\"],[0.7777777777777778,\"#fb9f3a\"],[0.8888888888888888,\"#fdca26\"],[1.0,\"#f0f921\"]]}],\"surface\":[{\"type\":\"surface\",\"colorbar\":{\"outlinewidth\":0,\"ticks\":\"\"},\"colorscale\":[[0.0,\"#0d0887\"],[0.1111111111111111,\"#46039f\"],[0.2222222222222222,\"#7201a8\"],[0.3333333333333333,\"#9c179e\"],[0.4444444444444444,\"#bd3786\"],[0.5555555555555556,\"#d8576b\"],[0.6666666666666666,\"#ed7953\"],[0.7777777777777778,\"#fb9f3a\"],[0.8888888888888888,\"#fdca26\"],[1.0,\"#f0f921\"]]}],\"mesh3d\":[{\"type\":\"mesh3d\",\"colorbar\":{\"outlinewidth\":0,\"ticks\":\"\"}}],\"scatter\":[{\"fillpattern\":{\"fillmode\":\"overlay\",\"size\":10,\"solidity\":0.2},\"type\":\"scatter\"}],\"parcoords\":[{\"type\":\"parcoords\",\"line\":{\"colorbar\":{\"outlinewidth\":0,\"ticks\":\"\"}}}],\"scatterpolargl\":[{\"type\":\"scatterpolargl\",\"marker\":{\"colorbar\":{\"outlinewidth\":0,\"ticks\":\"\"}}}],\"bar\":[{\"error_x\":{\"color\":\"#2a3f5f\"},\"error_y\":{\"color\":\"#2a3f5f\"},\"marker\":{\"line\":{\"color\":\"#E5ECF6\",\"width\":0.5},\"pattern\":{\"fillmode\":\"overlay\",\"size\":10,\"solidity\":0.2}},\"type\":\"bar\"}],\"scattergeo\":[{\"type\":\"scattergeo\",\"marker\":{\"colorbar\":{\"outlinewidth\":0,\"ticks\":\"\"}}}],\"scatterpolar\":[{\"type\":\"scatterpolar\",\"marker\":{\"colorbar\":{\"outlinewidth\":0,\"ticks\":\"\"}}}],\"histogram\":[{\"marker\":{\"pattern\":{\"fillmode\":\"overlay\",\"size\":10,\"solidity\":0.2}},\"type\":\"histogram\"}],\"scattergl\":[{\"type\":\"scattergl\",\"marker\":{\"colorbar\":{\"outlinewidth\":0,\"ticks\":\"\"}}}],\"scatter3d\":[{\"type\":\"scatter3d\",\"line\":{\"colorbar\":{\"outlinewidth\":0,\"ticks\":\"\"}},\"marker\":{\"colorbar\":{\"outlinewidth\":0,\"ticks\":\"\"}}}],\"scattermapbox\":[{\"type\":\"scattermapbox\",\"marker\":{\"colorbar\":{\"outlinewidth\":0,\"ticks\":\"\"}}}],\"scatterternary\":[{\"type\":\"scatterternary\",\"marker\":{\"colorbar\":{\"outlinewidth\":0,\"ticks\":\"\"}}}],\"scattercarpet\":[{\"type\":\"scattercarpet\",\"marker\":{\"colorbar\":{\"outlinewidth\":0,\"ticks\":\"\"}}}],\"carpet\":[{\"aaxis\":{\"endlinecolor\":\"#2a3f5f\",\"gridcolor\":\"white\",\"linecolor\":\"white\",\"minorgridcolor\":\"white\",\"startlinecolor\":\"#2a3f5f\"},\"baxis\":{\"endlinecolor\":\"#2a3f5f\",\"gridcolor\":\"white\",\"linecolor\":\"white\",\"minorgridcolor\":\"white\",\"startlinecolor\":\"#2a3f5f\"},\"type\":\"carpet\"}],\"table\":[{\"cells\":{\"fill\":{\"color\":\"#EBF0F8\"},\"line\":{\"color\":\"white\"}},\"header\":{\"fill\":{\"color\":\"#C8D4E3\"},\"line\":{\"color\":\"white\"}},\"type\":\"table\"}],\"barpolar\":[{\"marker\":{\"line\":{\"color\":\"#E5ECF6\",\"width\":0.5},\"pattern\":{\"fillmode\":\"overlay\",\"size\":10,\"solidity\":0.2}},\"type\":\"barpolar\"}],\"pie\":[{\"automargin\":true,\"type\":\"pie\"}]},\"layout\":{\"autotypenumbers\":\"strict\",\"colorway\":[\"#636efa\",\"#EF553B\",\"#00cc96\",\"#ab63fa\",\"#FFA15A\",\"#19d3f3\",\"#FF6692\",\"#B6E880\",\"#FF97FF\",\"#FECB52\"],\"font\":{\"color\":\"#2a3f5f\"},\"hovermode\":\"closest\",\"hoverlabel\":{\"align\":\"left\"},\"paper_bgcolor\":\"white\",\"plot_bgcolor\":\"#E5ECF6\",\"polar\":{\"bgcolor\":\"#E5ECF6\",\"angularaxis\":{\"gridcolor\":\"white\",\"linecolor\":\"white\",\"ticks\":\"\"},\"radialaxis\":{\"gridcolor\":\"white\",\"linecolor\":\"white\",\"ticks\":\"\"}},\"ternary\":{\"bgcolor\":\"#E5ECF6\",\"aaxis\":{\"gridcolor\":\"white\",\"linecolor\":\"white\",\"ticks\":\"\"},\"baxis\":{\"gridcolor\":\"white\",\"linecolor\":\"white\",\"ticks\":\"\"},\"caxis\":{\"gridcolor\":\"white\",\"linecolor\":\"white\",\"ticks\":\"\"}},\"coloraxis\":{\"colorbar\":{\"outlinewidth\":0,\"ticks\":\"\"}},\"colorscale\":{\"sequential\":[[0.0,\"#0d0887\"],[0.1111111111111111,\"#46039f\"],[0.2222222222222222,\"#7201a8\"],[0.3333333333333333,\"#9c179e\"],[0.4444444444444444,\"#bd3786\"],[0.5555555555555556,\"#d8576b\"],[0.6666666666666666,\"#ed7953\"],[0.7777777777777778,\"#fb9f3a\"],[0.8888888888888888,\"#fdca26\"],[1.0,\"#f0f921\"]],\"sequentialminus\":[[0.0,\"#0d0887\"],[0.1111111111111111,\"#46039f\"],[0.2222222222222222,\"#7201a8\"],[0.3333333333333333,\"#9c179e\"],[0.4444444444444444,\"#bd3786\"],[0.5555555555555556,\"#d8576b\"],[0.6666666666666666,\"#ed7953\"],[0.7777777777777778,\"#fb9f3a\"],[0.8888888888888888,\"#fdca26\"],[1.0,\"#f0f921\"]],\"diverging\":[[0,\"#8e0152\"],[0.1,\"#c51b7d\"],[0.2,\"#de77ae\"],[0.3,\"#f1b6da\"],[0.4,\"#fde0ef\"],[0.5,\"#f7f7f7\"],[0.6,\"#e6f5d0\"],[0.7,\"#b8e186\"],[0.8,\"#7fbc41\"],[0.9,\"#4d9221\"],[1,\"#276419\"]]},\"xaxis\":{\"gridcolor\":\"white\",\"linecolor\":\"white\",\"ticks\":\"\",\"title\":{\"standoff\":15},\"zerolinecolor\":\"white\",\"automargin\":true,\"zerolinewidth\":2},\"yaxis\":{\"gridcolor\":\"white\",\"linecolor\":\"white\",\"ticks\":\"\",\"title\":{\"standoff\":15},\"zerolinecolor\":\"white\",\"automargin\":true,\"zerolinewidth\":2},\"scene\":{\"xaxis\":{\"backgroundcolor\":\"#E5ECF6\",\"gridcolor\":\"white\",\"linecolor\":\"white\",\"showbackground\":true,\"ticks\":\"\",\"zerolinecolor\":\"white\",\"gridwidth\":2},\"yaxis\":{\"backgroundcolor\":\"#E5ECF6\",\"gridcolor\":\"white\",\"linecolor\":\"white\",\"showbackground\":true,\"ticks\":\"\",\"zerolinecolor\":\"white\",\"gridwidth\":2},\"zaxis\":{\"backgroundcolor\":\"#E5ECF6\",\"gridcolor\":\"white\",\"linecolor\":\"white\",\"showbackground\":true,\"ticks\":\"\",\"zerolinecolor\":\"white\",\"gridwidth\":2}},\"shapedefaults\":{\"line\":{\"color\":\"#2a3f5f\"}},\"annotationdefaults\":{\"arrowcolor\":\"#2a3f5f\",\"arrowhead\":0,\"arrowwidth\":1},\"geo\":{\"bgcolor\":\"white\",\"landcolor\":\"#E5ECF6\",\"subunitcolor\":\"white\",\"showland\":true,\"showlakes\":true,\"lakecolor\":\"white\"},\"title\":{\"x\":0.05},\"mapbox\":{\"style\":\"light\"}}},\"xaxis\":{\"anchor\":\"y\",\"domain\":[0.0,1.0],\"title\":{\"text\":\"index\"}},\"yaxis\":{\"anchor\":\"x\",\"domain\":[0.0,1.0],\"title\":{\"text\":\"value\"}},\"legend\":{\"title\":{\"text\":\"variable\"},\"tracegroupgap\":0},\"margin\":{\"t\":60}},                        {\"responsive\": true}                    ).then(function(){\n",
       "                            \n",
       "var gd = document.getElementById('57374458-9982-4d6e-8bdd-dd7b2df20b56');\n",
       "var x = new MutationObserver(function (mutations, observer) {{\n",
       "        var display = window.getComputedStyle(gd).display;\n",
       "        if (!display || display === 'none') {{\n",
       "            console.log([gd, 'removed!']);\n",
       "            Plotly.purge(gd);\n",
       "            observer.disconnect();\n",
       "        }}\n",
       "}});\n",
       "\n",
       "// Listen for the removal of the full notebook cells\n",
       "var notebookContainer = gd.closest('#notebook-container');\n",
       "if (notebookContainer) {{\n",
       "    x.observe(notebookContainer, {childList: true});\n",
       "}}\n",
       "\n",
       "// Listen for the clearing of the current output cell\n",
       "var outputEl = gd.closest('.output');\n",
       "if (outputEl) {{\n",
       "    x.observe(outputEl, {childList: true});\n",
       "}}\n",
       "\n",
       "                        })                };                });            </script>        </div>"
      ]
     },
     "metadata": {},
     "output_type": "display_data"
    }
   ],
   "source": [
    "# written by chatGPT\n",
    "def create_distribution(data):\n",
    "    \"\"\"\n",
    "    Create a distribution from a given dataset.\n",
    "\n",
    "    Parameters:\n",
    "    data (numpy.array): Array of data points.\n",
    "\n",
    "    Returns:\n",
    "    numpy.array: Probability distribution of the data points.\n",
    "    \"\"\"\n",
    "    # Compute the histogram of the data\n",
    "    counts, bins = np.histogram(data, bins='auto', density=True)\n",
    "    \n",
    "    # Compute the probability distribution\n",
    "    bin_widths = np.diff(bins)\n",
    "    distribution = counts * bin_widths\n",
    "    \n",
    "    return distribution\n",
    "\n",
    "y0 = np.maximum(0,test_images @ net_parameters['w0'])\n",
    "avs = y0.sum(axis=-1)\n",
    "counts, _ = np.histogram(avs)\n",
    "px.line(counts, line_shape='spline')"
   ]
  },
  {
   "cell_type": "code",
   "execution_count": 97,
   "id": "e99c846e",
   "metadata": {},
   "outputs": [
    {
     "data": {
      "text/plain": [
       "DeviceArray(2.3598225, dtype=float32)"
      ]
     },
     "execution_count": 97,
     "metadata": {},
     "output_type": "execute_result"
    }
   ],
   "source": [
    "def entropy(distr):\n",
    "    return -(distr*jnp.log(distr+1e-10)).sum(axis=-1)\n",
    "\n",
    "y0 = test_images @ net_parameters['w0']\n",
    "\n",
    "entropy(jax.nn.softmax(y0)).mean()"
   ]
  }
 ],
 "metadata": {
  "kernelspec": {
   "display_name": "Python 3 (ipykernel)",
   "language": "python",
   "name": "python3"
  },
  "language_info": {
   "codemirror_mode": {
    "name": "ipython",
    "version": 3
   },
   "file_extension": ".py",
   "mimetype": "text/x-python",
   "name": "python",
   "nbconvert_exporter": "python",
   "pygments_lexer": "ipython3",
   "version": "3.12.1"
  }
 },
 "nbformat": 4,
 "nbformat_minor": 5
}
